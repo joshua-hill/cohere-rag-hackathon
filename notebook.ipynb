{
 "cells": [
  {
   "cell_type": "code",
   "execution_count": 2,
   "metadata": {},
   "outputs": [],
   "source": [
    "#from cohere.classify import Example, CohereClient\n",
    "import cohere\n",
    "from cohere.responses.classify import Example\n",
    "\n",
    "\n",
    "\n",
    "# Initialize the Cohere client\n",
    "co = cohere.Client(\"4jdEqGb3coPXaw7M8mbEaTvKMdYu5vJsa0G3MHbL\")"
   ]
  },
  {
   "cell_type": "code",
   "execution_count": null,
   "metadata": {},
   "outputs": [],
   "source": [
    "prompt = \"Write an introductory paragraph for a blog post about language models.\""
   ]
  },
  {
   "cell_type": "code",
   "execution_count": null,
   "metadata": {},
   "outputs": [],
   "source": [
    "\"\"\"response = co.generate(  \n",
    "    model='command-nightly',  \n",
    "    prompt = prompt,  \n",
    "    max_tokens=200, # This parameter is optional. \n",
    "    temperature=0.750)\n",
    "\n",
    "intro_paragraph = response.generations[0].text\n",
    "\"\"\""
   ]
  },
  {
   "cell_type": "code",
   "execution_count": 3,
   "metadata": {},
   "outputs": [],
   "source": [
    "# Examples for each category\n",
    "examples_gen = [\n",
    "    # Technical Support\n",
    "    Example(\"I can't log into my account.\", \"Technical Support\"),\n",
    "    Example(\"The application crashes when I try to upload a file.\", \"Technical Support\"),\n",
    "    Example(\"I'm experiencing slow response times from the server.\", \"Technical Support\"),\n",
    "\n",
    "    # Pricing and Billing\n",
    "    Example(\"Can you confirm if my payment went through?\", \"Pricing and Billing\"),\n",
    "    Example(\"I've been overcharged for last month's service.\", \"Pricing and Billing\"),\n",
    "    Example(\"How do I upgrade my current plan?\", \"Pricing and Billing\"),\n",
    "\n",
    "    # Product Information\n",
    "    Example(\"Can your product support multi-language inputs?\", \"Product Information\"),\n",
    "    Example(\"Does your AI support image recognition?\", \"Product Information\"),\n",
    "    Example(\"Is your software compatible with macOS?\", \"Product Information\"),\n",
    "\n",
    "    # Development Support\n",
    "    Example(\"How can I integrate your API with my existing systems?\", \"Development Support\"),\n",
    "    Example(\"I need help with a script using your AI model.\", \"Development Support\"),\n",
    "    Example(\"What are the limitations of using the free version of your platform?\", \"Development Support\"),\n",
    "\n",
    "    # Careers\n",
    "    Example(\"Are there any current openings for data scientists?\", \"Careers\"),\n",
    "    Example(\"What's the status of my job application submitted last week?\", \"Careers\"),\n",
    "    Example(\"Do you offer internships for undergraduates?\", \"Careers\"),\n",
    "\n",
    "    # Partnership and Collaboration\n",
    "    Example(\"We're interested in a strategic partnership with your company.\", \"Partnership and Collaboration\"),\n",
    "    Example(\"Would you be interested in a joint research initiative?\", \"Partnership and Collaboration\"),\n",
    "    Example(\"We are seeking sponsors for our tech conference.\", \"Partnership and Collaboration\"),\n",
    "\n",
    "    # Feedback and Suggestions\n",
    "    Example(\"I have some suggestions to improve the user interface.\", \"Feedback and Suggestions\"),\n",
    "    Example(\"Consider adding a dark mode feature to your app.\", \"Feedback and Suggestions\"),\n",
    "    Example(\"I am not satisfied with the customer service I received.\", \"Feedback and Suggestions\"),\n",
    "\n",
    "    # Marketing\n",
    "    Example(\"How can we advertise our products on your platform?\", \"Marketing\"),\n",
    "    Example(\"Can you provide details about your upcoming webinar?\", \"Marketing\"),\n",
    "    Example(\"I'm a journalist looking for a press contact at your company.\", \"Marketing\")\n",
    "]\n",
    "\n",
    "# Example user queries\n",
    "user_queries_gen = [\n",
    "    \"My app keeps freezing when I try to open it.\",\n",
    "    \"What are the latest features in your AI model?\",\n",
    "    \"I noticed an error in my last invoice, who can I speak to?\",\n",
    "    # Add more user queries as needed\n",
    "]"
   ]
  },
  {
   "cell_type": "code",
   "execution_count": 10,
   "metadata": {},
   "outputs": [],
   "source": [
    "# Examples for different urgency levels\n",
    "examples_urgency = [\n",
    "    # High Urgency: Cancellation threats, ethical concerns, or mentions of previous attempts to resolve the issue\n",
    "    Example(\"I'm going to cancel my subscription if this isn't resolved immediately.\", \"High Urgency\"),\n",
    "    Example(\"I have serious ethical concerns about your data practices.\", \"High Urgency\"),\n",
    "    Example(\"This is my third time contacting you about the same problem!\", \"High Urgency\"),\n",
    "\n",
    "    # Medium Urgency: General negative sentiment without threats of cancellation or ethical concerns\n",
    "    Example(\"I am not happy with the delay in service.\", \"Medium Urgency\"),\n",
    "    Example(\"The product is not working as expected, and I'm quite frustrated.\", \"Medium Urgency\"),\n",
    "    Example(\"I'm disappointed with the quality of your customer support.\", \"Medium Urgency\"),\n",
    "\n",
    "    # Low Urgency: Default urgency for neutral or positive sentiment\n",
    "    Example(\"I have a question about my account when you have time.\", \"Low Urgency\"),\n",
    "    Example(\"Could you please provide some more information about this feature?\", \"Low Urgency\"),\n",
    "    Example(\"I'm looking forward to your response at your earliest convenience.\", \"Low Urgency\")\n",
    "]\n",
    "\n",
    "# Example user queries\n",
    "user_queries_urgency = [\n",
    "    \"This is unacceptable, I've contacted support multiple times with no resolution!\"]\n",
    "\n"
   ]
  },
  {
   "cell_type": "code",
   "execution_count": 11,
   "metadata": {},
   "outputs": [],
   "source": [
    "# Classify the general queries\n",
    "response_gen = co.classify(\n",
    "    model='embed-english-v2.0',\n",
    "    inputs=user_queries_gen,\n",
    "    examples=examples_gen\n",
    ")\n",
    "\n",
    "\n",
    "\n",
    "# Classify the urgentcy of queries\n",
    "response_urgency = co.classify(\n",
    "    model='embed-english-v2.0',\n",
    "    inputs=user_queries_urgency,\n",
    "    examples=examples_urgency\n",
    ")\n",
    "\n",
    "\n",
    "\n",
    "\n",
    "\n",
    "\n",
    "\n",
    "\n"
   ]
  },
  {
   "cell_type": "code",
   "execution_count": 12,
   "metadata": {},
   "outputs": [
    {
     "name": "stdout",
     "output_type": "stream",
     "text": [
      "['Technical Support']\n",
      "[0.97218883]\n",
      "\n",
      "['Development Support']\n",
      "[0.7999131]\n",
      "\n",
      "['Pricing and Billing']\n",
      "[0.98159873]\n",
      "\n"
     ]
    }
   ],
   "source": [
    "for i in response_gen.classifications:\n",
    "    print(i.predictions)\n",
    "    print(i.confidences)\n",
    "    #print(i.text)\n",
    "    print(\"\")"
   ]
  },
  {
   "cell_type": "code",
   "execution_count": 13,
   "metadata": {},
   "outputs": [
    {
     "name": "stdout",
     "output_type": "stream",
     "text": [
      "['High Urgency']\n",
      "\n"
     ]
    }
   ],
   "source": [
    "for i in response_urgency.classifications:\n",
    "    print(i.predictions)\n",
    "    #print(i.confidences)\n",
    "    #print(i.text)\n",
    "    print(\"\")"
   ]
  },
  {
   "cell_type": "code",
   "execution_count": 63,
   "metadata": {},
   "outputs": [
    {
     "data": {
      "text/plain": [
       "Classification<prediction: \"Technical Support\", confidence: 0.97218883, labels: {'Careers': LabelPrediction(confidence=0.0020426456), 'Development Support': LabelPrediction(confidence=0.0040968545), 'Feedback and Suggestions': LabelPrediction(confidence=0.018620582), 'Marketing': LabelPrediction(confidence=0.0005065138), 'Partnership and Collaboration': LabelPrediction(confidence=0.00013838208), 'Pricing and Billing': LabelPrediction(confidence=0.00041100447), 'Product Information': LabelPrediction(confidence=0.0019951696), 'Technical Support': LabelPrediction(confidence=0.97218883)}>"
      ]
     },
     "execution_count": 63,
     "metadata": {},
     "output_type": "execute_result"
    }
   ],
   "source": [
    "# cohere.responses.classify.Classification\n",
    "response.classifications[0]"
   ]
  },
  {
   "cell_type": "code",
   "execution_count": null,
   "metadata": {},
   "outputs": [],
   "source": []
  },
  {
   "cell_type": "code",
   "execution_count": 44,
   "metadata": {},
   "outputs": [],
   "source": [
    "def find_intent(query):\n",
    "    # Examples for each category\n",
    "    examples_intent = [\n",
    "        # Technical Support\n",
    "        Example(\"I can't log into my account.\", \"Technical Support\"),\n",
    "        Example(\"The application crashes when I try to upload a file.\", \"Technical Support\"),\n",
    "        Example(\"I'm experiencing slow response times from the server.\", \"Technical Support\"),\n",
    "\n",
    "        # Pricing and Billing\n",
    "        Example(\"Can you confirm if my payment went through?\", \"Pricing and Billing\"),\n",
    "        Example(\"I've been overcharged for last month's service.\", \"Pricing and Billing\"),\n",
    "        Example(\"How do I upgrade my current plan?\", \"Pricing and Billing\"),\n",
    "\n",
    "        # Product Information\n",
    "        Example(\"Can your product support multi-language inputs?\", \"Product Information\"),\n",
    "        Example(\"Does your AI support image recognition?\", \"Product Information\"),\n",
    "        Example(\"Is your software compatible with macOS?\", \"Product Information\"),\n",
    "\n",
    "        # Development Support\n",
    "        Example(\"How can I integrate your API with my existing systems?\", \"Development Support\"),\n",
    "        Example(\"I need help with a script using your AI model.\", \"Development Support\"),\n",
    "        Example(\"What are the limitations of using the free version of your platform?\", \"Development Support\"),\n",
    "\n",
    "        # Careers\n",
    "        Example(\"Are there any current openings for data scientists?\", \"Careers\"),\n",
    "        Example(\"What's the status of my job application submitted last week?\", \"Careers\"),\n",
    "        Example(\"Do you offer internships for undergraduates?\", \"Careers\"),\n",
    "\n",
    "        # Partnership and Collaboration\n",
    "        Example(\"We're interested in a strategic partnership with your company.\", \"Partnership and Collaboration\"),\n",
    "        Example(\"Would you be interested in a joint research initiative?\", \"Partnership and Collaboration\"),\n",
    "        Example(\"We are seeking sponsors for our tech conference.\", \"Partnership and Collaboration\"),\n",
    "\n",
    "        # Feedback and Suggestions\n",
    "        Example(\"I have some suggestions to improve the user interface.\", \"Feedback and Suggestions\"),\n",
    "        Example(\"Consider adding a dark mode feature to your app.\", \"Feedback and Suggestions\"),\n",
    "        Example(\"I am not satisfied with the customer service I received.\", \"Feedback and Suggestions\"),\n",
    "\n",
    "        # Marketing\n",
    "        Example(\"How can we advertise our products on your platform?\", \"Marketing\"),\n",
    "        Example(\"Can you provide details about your upcoming webinar?\", \"Marketing\"),\n",
    "        Example(\"I'm a journalist looking for a press contact at your company.\", \"Marketing\")\n",
    "    ]\n",
    "\n",
    "    response_intent = co.classify(\n",
    "    model='embed-english-v2.0',\n",
    "    inputs=[query],\n",
    "    examples=examples_intent\n",
    "    )\n",
    "\n",
    "    return response_intent.classifications[0].predictions[0], response_intent.classifications[0].confidences[0]\n",
    "    "
   ]
  },
  {
   "cell_type": "code",
   "execution_count": 48,
   "metadata": {},
   "outputs": [
    {
     "data": {
      "text/plain": [
       "'Pricing and Billing'"
      ]
     },
     "execution_count": 48,
     "metadata": {},
     "output_type": "execute_result"
    }
   ],
   "source": [
    "q = \"I noticed an error in my last invoice, who can I speak to?\"\n",
    "\n",
    "# find_intent(q)[0] = prediction\n",
    "# find_intent(q)[1] - confidence\n",
    "\n",
    "if find_intent(q)[0] == \"Technical Support\":\n",
    "    prompt = f\"You recieved a customer support query with intent identified as technical support. Find an answer: {q} \""
   ]
  },
  {
   "cell_type": "markdown",
   "metadata": {},
   "source": []
  }
 ],
 "metadata": {
  "kernelspec": {
   "display_name": "Python 3",
   "language": "python",
   "name": "python3"
  },
  "language_info": {
   "codemirror_mode": {
    "name": "ipython",
    "version": 3
   },
   "file_extension": ".py",
   "mimetype": "text/x-python",
   "name": "python",
   "nbconvert_exporter": "python",
   "pygments_lexer": "ipython3",
   "version": "3.10.4"
  }
 },
 "nbformat": 4,
 "nbformat_minor": 2
}
