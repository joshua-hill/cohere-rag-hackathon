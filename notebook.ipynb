{
 "cells": [
  {
   "cell_type": "code",
   "execution_count": 1,
   "metadata": {},
   "outputs": [],
   "source": [
    "import cohere\n",
    "co = cohere.Client(\"4jdEqGb3coPXaw7M8mbEaTvKMdYu5vJsa0G3MHbL\")"
   ]
  },
  {
   "cell_type": "code",
   "execution_count": null,
   "metadata": {},
   "outputs": [],
   "source": [
    "prompt = \"Write an introductory paragraph for a blog post about language models.\""
   ]
  },
  {
   "cell_type": "code",
   "execution_count": null,
   "metadata": {},
   "outputs": [],
   "source": [
    "response = co.generate(  \n",
    "    model='command-nightly',  \n",
    "    prompt = prompt,  \n",
    "    max_tokens=200, # This parameter is optional. \n",
    "    temperature=0.750)\n",
    "\n",
    "intro_paragraph = response.generations[0].text\n"
   ]
  },
  {
   "cell_type": "markdown",
   "metadata": {},
   "source": []
  },
  {
   "cell_type": "code",
   "execution_count": null,
   "metadata": {},
   "outputs": [],
   "source": [
    "import textwrap\n",
    "\n",
    "def chunk_text(df, width=1500, overlap=500):\n",
    "    # create an empty dataframe to store the chunked text\n",
    "    new_df = pd.DataFrame(columns=['id', 'text_chunk'])\n",
    "\n",
    "    # iterate over each row in the original dataframe\n",
    "    for index, row in df.iterrows():\n",
    "        # split text into chunks of size 'width', with overlap of 'overlap'\n",
    "        chunks = []\n",
    "        for i in range(0, len(row['text']), width - overlap):\n",
    "            chunk = row['text'][i:i+width]\n",
    "            chunks.append(chunk)\n",
    "\n",
    "        # iterate over each chunk and add it to the new dataframe\n",
    "        for i, chunk in enumerate(chunks):\n",
    "            # calculate the start index based on the chunk index and overlap\n",
    "            start_index = i * (width - overlap)\n",
    "            \n",
    "            # create a new row with the chunked text and the original row's ID\n",
    "            new_row = {\n",
    "              'id': row['id'], \n",
    "              'text_chunk': chunk, \n",
    "              'start_index': start_index}\n",
    "\n",
    "            new_df = new_df.append(new_row, ignore_index=True)\n",
    "\n",
    "    return new_df\n",
    "\n",
    "# run the function on the dataframe\n",
    "new_df = chunk_text(df)\n"
   ]
  }
 ],
 "metadata": {
  "kernelspec": {
   "display_name": "Python 3",
   "language": "python",
   "name": "python3"
  },
  "language_info": {
   "codemirror_mode": {
    "name": "ipython",
    "version": 3
   },
   "file_extension": ".py",
   "mimetype": "text/x-python",
   "name": "python",
   "nbconvert_exporter": "python",
   "pygments_lexer": "ipython3",
   "version": "3.10.4"
  }
 },
 "nbformat": 4,
 "nbformat_minor": 2
}
