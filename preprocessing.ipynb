{
 "cells": [
  {
   "cell_type": "code",
   "execution_count": 6,
   "metadata": {},
   "outputs": [],
   "source": [
    "import cohere\n",
    "import numpy as np\n",
    "import pandas as pd\n",
    "import streamlit as st\n",
    "from annoy import AnnoyIndex\n",
    "\n",
    "# Access the API key value\n",
    "#api_key = st.secrets['API_KEY']\n",
    "api_key = '4jdEqGb3coPXaw7M8mbEaTvKMdYu5vJsa0G3MHbL'"
   ]
  },
  {
   "cell_type": "code",
   "execution_count": 7,
   "metadata": {},
   "outputs": [
    {
     "data": {
      "text/html": [
       "<div>\n",
       "<style scoped>\n",
       "    .dataframe tbody tr th:only-of-type {\n",
       "        vertical-align: middle;\n",
       "    }\n",
       "\n",
       "    .dataframe tbody tr th {\n",
       "        vertical-align: top;\n",
       "    }\n",
       "\n",
       "    .dataframe thead th {\n",
       "        text-align: right;\n",
       "    }\n",
       "</style>\n",
       "<table border=\"1\" class=\"dataframe\">\n",
       "  <thead>\n",
       "    <tr style=\"text-align: right;\">\n",
       "      <th></th>\n",
       "      <th>text</th>\n",
       "      <th>link</th>\n",
       "      <th>title</th>\n",
       "      <th>Category</th>\n",
       "      <th>Type</th>\n",
       "    </tr>\n",
       "  </thead>\n",
       "  <tbody>\n",
       "    <tr>\n",
       "      <th>0</th>\n",
       "      <td>[\"Cohere For AI launched in June of this year ...</td>\n",
       "      <td>https://txt.cohere.ai/c4ai-2022/</td>\n",
       "      <td>Exploring the Unknown, Together: 2022 at Coher...</td>\n",
       "      <td>Research</td>\n",
       "      <td>Blog</td>\n",
       "    </tr>\n",
       "    <tr>\n",
       "      <th>1</th>\n",
       "      <td>[\"Since Cohereâ€™s beginning, we've been focus...</td>\n",
       "      <td>https://txt.cohere.ai/martin-kon/</td>\n",
       "      <td>Cohere Welcomes Martin Kon as President &amp; COO</td>\n",
       "      <td>Press</td>\n",
       "      <td>Blog</td>\n",
       "    </tr>\n",
       "    <tr>\n",
       "      <th>2</th>\n",
       "      <td>['Humans speak over 71001 languages, yet the m...</td>\n",
       "      <td>https://txt.cohere.ai/multilingual/</td>\n",
       "      <td>Cohere's Multilingual Text Understanding Model...</td>\n",
       "      <td>Product Launch</td>\n",
       "      <td>Blog</td>\n",
       "    </tr>\n",
       "    <tr>\n",
       "      <th>3</th>\n",
       "      <td>['In this multi-part guide, we will go through...</td>\n",
       "      <td>https://txt.cohere.ai/generative-ai-part-1/</td>\n",
       "      <td>Generative AI with Cohere: Part 1</td>\n",
       "      <td>Guide</td>\n",
       "      <td>Blog</td>\n",
       "    </tr>\n",
       "    <tr>\n",
       "      <th>4</th>\n",
       "      <td>['- This roundup highlights some interesting N...</td>\n",
       "      <td>https://txt.cohere.ai/top-nlp-papers-november-...</td>\n",
       "      <td>Top NLP Papers—November 2022</td>\n",
       "      <td>Research</td>\n",
       "      <td>Blog</td>\n",
       "    </tr>\n",
       "    <tr>\n",
       "      <th>...</th>\n",
       "      <td>...</td>\n",
       "      <td>...</td>\n",
       "      <td>...</td>\n",
       "      <td>...</td>\n",
       "      <td>...</td>\n",
       "    </tr>\n",
       "    <tr>\n",
       "      <th>296</th>\n",
       "      <td>Build trust with your users, and the general p...</td>\n",
       "      <td>https://cohere.ai/use-case-toxic-language</td>\n",
       "      <td>Toxic Language</td>\n",
       "      <td>Use Cases</td>\n",
       "      <td>Product Documentation</td>\n",
       "    </tr>\n",
       "    <tr>\n",
       "      <th>297</th>\n",
       "      <td>Supercharge your moderation efforts, Content m...</td>\n",
       "      <td>https://cohere.ai/use-case-toxic-language</td>\n",
       "      <td>Toxic Language</td>\n",
       "      <td>Use Cases</td>\n",
       "      <td>Product Documentation</td>\n",
       "    </tr>\n",
       "    <tr>\n",
       "      <th>298</th>\n",
       "      <td>Social media platforms, Cohere’s large languag...</td>\n",
       "      <td>https://cohere.ai/use-case-toxic-language</td>\n",
       "      <td>Toxic Language</td>\n",
       "      <td>Use Cases</td>\n",
       "      <td>Product Documentation</td>\n",
       "    </tr>\n",
       "    <tr>\n",
       "      <th>299</th>\n",
       "      <td>Gaming platforms, most gamers want better solu...</td>\n",
       "      <td>https://cohere.ai/use-case-toxic-language</td>\n",
       "      <td>Toxic Language</td>\n",
       "      <td>Use Cases</td>\n",
       "      <td>Product Documentation</td>\n",
       "    </tr>\n",
       "    <tr>\n",
       "      <th>300</th>\n",
       "      <td>Dating platforms, dating app users regularly b...</td>\n",
       "      <td>https://cohere.ai/use-case-toxic-language</td>\n",
       "      <td>Toxic Language</td>\n",
       "      <td>Use Cases</td>\n",
       "      <td>Product Documentation</td>\n",
       "    </tr>\n",
       "  </tbody>\n",
       "</table>\n",
       "<p>301 rows × 5 columns</p>\n",
       "</div>"
      ],
      "text/plain": [
       "                                                  text  \\\n",
       "0    [\"Cohere For AI launched in June of this year ...   \n",
       "1    [\"Since Cohereâ€™s beginning, we've been focus...   \n",
       "2    ['Humans speak over 71001 languages, yet the m...   \n",
       "3    ['In this multi-part guide, we will go through...   \n",
       "4    ['- This roundup highlights some interesting N...   \n",
       "..                                                 ...   \n",
       "296  Build trust with your users, and the general p...   \n",
       "297  Supercharge your moderation efforts, Content m...   \n",
       "298  Social media platforms, Cohere’s large languag...   \n",
       "299  Gaming platforms, most gamers want better solu...   \n",
       "300  Dating platforms, dating app users regularly b...   \n",
       "\n",
       "                                                  link  \\\n",
       "0                     https://txt.cohere.ai/c4ai-2022/   \n",
       "1                    https://txt.cohere.ai/martin-kon/   \n",
       "2                  https://txt.cohere.ai/multilingual/   \n",
       "3          https://txt.cohere.ai/generative-ai-part-1/   \n",
       "4    https://txt.cohere.ai/top-nlp-papers-november-...   \n",
       "..                                                 ...   \n",
       "296          https://cohere.ai/use-case-toxic-language   \n",
       "297          https://cohere.ai/use-case-toxic-language   \n",
       "298          https://cohere.ai/use-case-toxic-language   \n",
       "299          https://cohere.ai/use-case-toxic-language   \n",
       "300          https://cohere.ai/use-case-toxic-language   \n",
       "\n",
       "                                                 title        Category  \\\n",
       "0    Exploring the Unknown, Together: 2022 at Coher...        Research   \n",
       "1        Cohere Welcomes Martin Kon as President & COO           Press   \n",
       "2    Cohere's Multilingual Text Understanding Model...  Product Launch   \n",
       "3                    Generative AI with Cohere: Part 1           Guide   \n",
       "4                         Top NLP Papers—November 2022        Research   \n",
       "..                                                 ...             ...   \n",
       "296                                     Toxic Language       Use Cases   \n",
       "297                                     Toxic Language       Use Cases   \n",
       "298                                     Toxic Language       Use Cases   \n",
       "299                                     Toxic Language       Use Cases   \n",
       "300                                     Toxic Language       Use Cases   \n",
       "\n",
       "                      Type  \n",
       "0                     Blog  \n",
       "1                     Blog  \n",
       "2                     Blog  \n",
       "3                     Blog  \n",
       "4                     Blog  \n",
       "..                     ...  \n",
       "296  Product Documentation  \n",
       "297  Product Documentation  \n",
       "298  Product Documentation  \n",
       "299  Product Documentation  \n",
       "300  Product Documentation  \n",
       "\n",
       "[301 rows x 5 columns]"
      ]
     },
     "execution_count": 7,
     "metadata": {},
     "output_type": "execute_result"
    }
   ],
   "source": [
    "df = pd.read_csv('cohere_text_preprocessing.csv')\n",
    "df"
   ]
  },
  {
   "cell_type": "code",
   "execution_count": 8,
   "metadata": {},
   "outputs": [],
   "source": [
    "# add an id column\n",
    "df['id'] = df.index"
   ]
  },
  {
   "cell_type": "code",
   "execution_count": 9,
   "metadata": {},
   "outputs": [
    {
     "data": {
      "text/plain": [
       "0       Research\n",
       "1       Research\n",
       "2       Research\n",
       "3       Research\n",
       "4       Research\n",
       "         ...    \n",
       "540    Use Cases\n",
       "541    Use Cases\n",
       "542    Use Cases\n",
       "543    Use Cases\n",
       "544    Use Cases\n",
       "Name: Category, Length: 545, dtype: object"
      ]
     },
     "execution_count": 9,
     "metadata": {},
     "output_type": "execute_result"
    }
   ],
   "source": [
    "def chunk_text(df, width=1500, overlap=500):\n",
    "    # create an empty dataframe to store the chunked text\n",
    "    new_df = pd.DataFrame(columns=['id', 'text_chunk'])\n",
    "\n",
    "    # iterate over each row in the original dataframe\n",
    "    for index, row in df.iterrows():\n",
    "        # split the text into chunks of size 'width', with overlap of 'overlap'\n",
    "        chunks = []\n",
    "        rows = []\n",
    "        for i in range(0, len(row['text']), width - overlap):\n",
    "            chunk = row['text'][i:i+width]\n",
    "            chunks.append(chunk)\n",
    "\n",
    "        # iterate over each chunk and add it to the new dataframe\n",
    "        chunk_rows = []\n",
    "        for i, chunk in enumerate(chunks):\n",
    "            # calculate the start index based on the chunk index and overlap\n",
    "            start_index = i * (width - overlap)\n",
    "\n",
    "            # create a new row with the chunked text and the original row's ID\n",
    "            new_row = {'id': row['id'], 'text_chunk': chunk, 'start_index': start_index}\n",
    "            chunk_rows.append(new_row)\n",
    "        chunk_df = pd.DataFrame(chunk_rows)\n",
    "        new_df = pd.concat([new_df, chunk_df], ignore_index=True)\n",
    "\n",
    "    return new_df\n",
    "\n",
    "\n",
    "\n",
    "new_df = chunk_text(df)\n",
    "# append text chunks to the original dataframe in id order\n",
    "df = df.merge(new_df, on='id', how='left')\n",
    "df.Category"
   ]
  },
  {
   "cell_type": "code",
   "execution_count": 11,
   "metadata": {},
   "outputs": [
    {
     "data": {
      "text/plain": [
       "(545, 4096)"
      ]
     },
     "execution_count": 11,
     "metadata": {},
     "output_type": "execute_result"
    }
   ],
   "source": [
    "co = cohere.Client(api_key) \n",
    "\n",
    "# Get the embeddings\n",
    "embeds = co.embed(texts=list(df['text_chunk']),\n",
    "                  model=\"embed-english-v3.0\",\n",
    "                  truncate=\"RIGHT\").embeddings\n",
    "# Check the dimensions of the embeddings\n",
    "embeds = np.array(embeds)\n",
    "embeds.shape\n"
   ]
  },
  {
   "cell_type": "code",
   "execution_count": 12,
   "metadata": {},
   "outputs": [
    {
     "data": {
      "text/plain": [
       "True"
      ]
     },
     "execution_count": 12,
     "metadata": {},
     "output_type": "execute_result"
    }
   ],
   "source": [
    "# Create the search index, pass the size of embedding\n",
    "search_index = AnnoyIndex(embeds.shape[1], 'angular')\n",
    "# Add all the vectors to the search index\n",
    "for i in range(len(embeds)):\n",
    "    search_index.add_item(i, embeds[i])\n",
    "\n",
    "search_index.build(10) # 10 trees\n",
    "search_index.save('search_index.ann')"
   ]
  },
  {
   "cell_type": "code",
   "execution_count": 13,
   "metadata": {},
   "outputs": [],
   "source": [
    "# export the dataframe to a csv file\n",
    "df.to_csv('cohere_text_final.csv', index=False)"
   ]
  },
  {
   "cell_type": "code",
   "execution_count": null,
   "metadata": {},
   "outputs": [],
   "source": []
  }
 ],
 "metadata": {
  "kernelspec": {
   "display_name": "Python 3",
   "language": "python",
   "name": "python3"
  },
  "language_info": {
   "codemirror_mode": {
    "name": "ipython",
    "version": 3
   },
   "file_extension": ".py",
   "mimetype": "text/x-python",
   "name": "python",
   "nbconvert_exporter": "python",
   "pygments_lexer": "ipython3",
   "version": "3.10.4"
  },
  "orig_nbformat": 4
 },
 "nbformat": 4,
 "nbformat_minor": 2
}
